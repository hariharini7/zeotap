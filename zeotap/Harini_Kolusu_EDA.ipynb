{
 "cells": [
  {
   "cell_type": "code",
   "execution_count": 1,
   "id": "f3ef0612",
   "metadata": {},
   "outputs": [],
   "source": [
    "import pandas as pd\n",
    "import matplotlib.pyplot as plt\n",
    "\n",
    "# Load the datasets\n",
    "customers_df = pd.read_csv('Customers.csv')\n",
    "products_df = pd.read_csv('Products.csv')\n",
    "transactions_df = pd.read_csv('Transactions.csv')"
   ]
  },
  {
   "cell_type": "code",
   "execution_count": 2,
   "id": "b4abad4b",
   "metadata": {},
   "outputs": [],
   "source": [
    "customers_df['SignupDate'] = pd.to_datetime(customers_df['SignupDate'])\n",
    "transactions_df['TransactionDate'] = pd.to_datetime(transactions_df['TransactionDate'])\n"
   ]
  },
  {
   "cell_type": "code",
   "execution_count": 3,
   "id": "142a2651",
   "metadata": {},
   "outputs": [],
   "source": [
    "merged_data = transactions_df.merge(customers_df, on='CustomerID', how='left')\n",
    "merged_data = merged_data.merge(products_df, on='ProductID', how='left')\n"
   ]
  },
  {
   "cell_type": "code",
   "execution_count": 4,
   "id": "2863255f",
   "metadata": {},
   "outputs": [],
   "source": [
    "merged_data = merged_data.drop(columns=['Price_x'])  # Keep only one Price column\n"
   ]
  },
  {
   "cell_type": "markdown",
   "id": "d7663317",
   "metadata": {},
   "source": [
    "# Sales Analysis"
   ]
  },
  {
   "cell_type": "code",
   "execution_count": 8,
   "id": "a7fb57d0",
   "metadata": {},
   "outputs": [
    {
     "name": "stdout",
     "output_type": "stream",
     "text": [
      "Region\n",
      "South America    219352.56\n",
      "Europe           166254.63\n",
      "North America    152313.40\n",
      "Asia             152074.97\n",
      "Name: TotalValue, dtype: float64\n"
     ]
    }
   ],
   "source": [
    "sales_by_region = merged_data.groupby('Region')['TotalValue'].sum().sort_values(ascending=False)\n",
    "print(sales_by_region)\n"
   ]
  },
  {
   "cell_type": "code",
   "execution_count": 6,
   "id": "03e654c2",
   "metadata": {},
   "outputs": [
    {
     "name": "stdout",
     "output_type": "stream",
     "text": [
      "ProductName\n",
      "ActiveWear Smartwatch    39096.97\n",
      "SoundWave Headphones     25211.64\n",
      "SoundWave Novel          24507.90\n",
      "ActiveWear Jacket        22712.56\n",
      "ActiveWear Rug           22314.43\n",
      "Name: TotalValue, dtype: float64\n"
     ]
    }
   ],
   "source": [
    "top_products = merged_data.groupby('ProductName')['TotalValue'].sum().sort_values(ascending=False).head(5)\n",
    "print(top_products)\n"
   ]
  },
  {
   "cell_type": "code",
   "execution_count": 7,
   "id": "7b7e6f17",
   "metadata": {},
   "outputs": [
    {
     "name": "stdout",
     "output_type": "stream",
     "text": [
      "3467.3143718592933\n"
     ]
    }
   ],
   "source": [
    "avg_customer_spending = merged_data.groupby('CustomerID')['TotalValue'].sum().mean()\n",
    "print(avg_customer_spending)\n"
   ]
  },
  {
   "cell_type": "markdown",
   "id": "e4578cb3",
   "metadata": {},
   "source": [
    "# Time Trends"
   ]
  },
  {
   "cell_type": "code",
   "execution_count": 9,
   "id": "08c643c2",
   "metadata": {},
   "outputs": [
    {
     "name": "stdout",
     "output_type": "stream",
     "text": [
      "Month\n",
      "2023-12     3769.52\n",
      "2024-01    66376.39\n",
      "2024-02    51459.27\n",
      "2024-03    47828.73\n",
      "2024-04    57519.06\n",
      "2024-05    64527.74\n",
      "2024-06    48771.18\n",
      "2024-07    71366.39\n",
      "2024-08    63436.74\n",
      "2024-09    70603.75\n",
      "2024-10    47063.22\n",
      "2024-11    38224.37\n",
      "2024-12    59049.20\n",
      "Freq: M, Name: TotalValue, dtype: float64\n"
     ]
    }
   ],
   "source": [
    "merged_data['Month'] = merged_data['TransactionDate'].dt.to_period('M')\n",
    "monthly_sales = merged_data.groupby('Month')['TotalValue'].sum()\n",
    "print(monthly_sales)\n"
   ]
  },
  {
   "cell_type": "code",
   "execution_count": 10,
   "id": "a61b0847",
   "metadata": {},
   "outputs": [
    {
     "name": "stdout",
     "output_type": "stream",
     "text": [
      "TransactionDate\n",
      "2024-09-04    7585.50\n",
      "2024-12-18    6843.94\n",
      "2024-12-03    6258.32\n",
      "2024-07-14    5880.49\n",
      "2024-05-08    5813.44\n",
      "Name: TotalValue, dtype: float64\n"
     ]
    }
   ],
   "source": [
    "daily_sales = merged_data.groupby(merged_data['TransactionDate'].dt.date)['TotalValue'].sum()\n",
    "print(daily_sales.sort_values(ascending=False).head(5))\n"
   ]
  },
  {
   "cell_type": "markdown",
   "id": "3b8a696b",
   "metadata": {},
   "source": [
    "# Product and Category Analysis "
   ]
  },
  {
   "cell_type": "code",
   "execution_count": 11,
   "id": "cb68ce3f",
   "metadata": {},
   "outputs": [
    {
     "name": "stdout",
     "output_type": "stream",
     "text": [
      "Category\n",
      "Books          192147.47\n",
      "Electronics    180783.50\n",
      "Clothing       166170.66\n",
      "Home Decor     150893.93\n",
      "Name: TotalValue, dtype: float64\n"
     ]
    }
   ],
   "source": [
    "category_sales = merged_data.groupby('Category')['TotalValue'].sum().sort_values(ascending=False)\n",
    "print(category_sales)\n"
   ]
  },
  {
   "cell_type": "code",
   "execution_count": 12,
   "id": "5983255d",
   "metadata": {},
   "outputs": [
    {
     "name": "stdout",
     "output_type": "stream",
     "text": [
      "ProductName\n",
      "ActiveWear Smartwatch       100\n",
      "SoundWave Headphones         97\n",
      "HomeSense Desk Lamp          81\n",
      "ActiveWear Rug               79\n",
      "SoundWave Cookbook           78\n",
      "                           ... \n",
      "HomeSense Headphones         18\n",
      "SoundWave Laptop             16\n",
      "SoundWave Jacket             16\n",
      "BookWorld Wall Art           15\n",
      "ComfortLiving Headphones     15\n",
      "Name: Quantity, Length: 66, dtype: int64\n"
     ]
    }
   ],
   "source": [
    "product_quantity = merged_data.groupby('ProductName')['Quantity'].sum().sort_values(ascending=False)\n",
    "print(product_quantity)\n"
   ]
  },
  {
   "cell_type": "markdown",
   "id": "dce87638",
   "metadata": {},
   "source": [
    "# Customer Insights"
   ]
  },
  {
   "cell_type": "code",
   "execution_count": 13,
   "id": "9b4d4e05",
   "metadata": {},
   "outputs": [
    {
     "name": "stdout",
     "output_type": "stream",
     "text": [
      "CustomerID\n",
      "C0141    10673.87\n",
      "C0054     8040.39\n",
      "C0065     7663.70\n",
      "C0156     7634.45\n",
      "C0082     7572.91\n",
      "Name: TotalValue, dtype: float64\n"
     ]
    }
   ],
   "source": [
    "top_customers = merged_data.groupby('CustomerID')['TotalValue'].sum().sort_values(ascending=False).head(5)\n",
    "print(top_customers)\n"
   ]
  },
  {
   "cell_type": "markdown",
   "id": "e1943d8a",
   "metadata": {},
   "source": [
    "# Customer Retention Insight"
   ]
  },
  {
   "cell_type": "code",
   "execution_count": 14,
   "id": "135d67a7",
   "metadata": {},
   "outputs": [
    {
     "name": "stdout",
     "output_type": "stream",
     "text": [
      "\n",
      "Revenue by Customer Tenure Group:\n",
      "TenureGroup\n",
      ">365 Days       340178.59\n",
      "180-365 Days     86434.86\n",
      "90-180 Days      58505.55\n",
      "30-90 Days       39131.35\n",
      "<30 Days         24259.20\n",
      "Name: TotalValue, dtype: float64\n"
     ]
    }
   ],
   "source": [
    "# Calculate customer tenure (days since signup)\n",
    "merged_data['CustomerTenure'] = (merged_data['TransactionDate'] - merged_data['SignupDate']).dt.days\n",
    "\n",
    "# Average revenue per customer tenure group (e.g., <30 days, 30-90 days, >90 days)\n",
    "bins = [0, 30, 90, 180, 365, merged_data['CustomerTenure'].max()]\n",
    "labels = ['<30 Days', '30-90 Days', '90-180 Days', '180-365 Days', '>365 Days']\n",
    "merged_data['TenureGroup'] = pd.cut(merged_data['CustomerTenure'], bins=bins, labels=labels)\n",
    "\n",
    "tenure_sales = merged_data.groupby('TenureGroup')['TotalValue'].sum().sort_values(ascending=False)\n",
    "print(\"\\nRevenue by Customer Tenure Group:\")\n",
    "print(tenure_sales)\n"
   ]
  },
  {
   "cell_type": "code",
   "execution_count": null,
   "id": "f43f356f",
   "metadata": {},
   "outputs": [],
   "source": []
  }
 ],
 "metadata": {
  "kernelspec": {
   "display_name": "Python 3 (ipykernel)",
   "language": "python",
   "name": "python3"
  },
  "language_info": {
   "codemirror_mode": {
    "name": "ipython",
    "version": 3
   },
   "file_extension": ".py",
   "mimetype": "text/x-python",
   "name": "python",
   "nbconvert_exporter": "python",
   "pygments_lexer": "ipython3",
   "version": "3.9.12"
  }
 },
 "nbformat": 4,
 "nbformat_minor": 5
}
